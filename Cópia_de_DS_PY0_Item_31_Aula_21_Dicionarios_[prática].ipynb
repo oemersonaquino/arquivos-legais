{
  "nbformat": 4,
  "nbformat_minor": 0,
  "metadata": {
    "colab": {
      "provenance": [],
      "collapsed_sections": [],
      "include_colab_link": true
    },
    "kernelspec": {
      "name": "python3",
      "display_name": "Python 3"
    },
    "language_info": {
      "name": "python"
    }
  },
  "cells": [
    {
      "cell_type": "markdown",
      "metadata": {
        "id": "view-in-github",
        "colab_type": "text"
      },
      "source": [
        "<a href=\"https://colab.research.google.com/github/oemersonaquino/arquivos-legais/blob/main/C%C3%B3pia_de_DS_PY0_Item_31_Aula_21_Dicionarios_%5Bpr%C3%A1tica%5D.ipynb\" target=\"_parent\"><img src=\"https://colab.research.google.com/assets/colab-badge.svg\" alt=\"Open In Colab\"/></a>"
      ]
    },
    {
      "cell_type": "markdown",
      "metadata": {
        "id": "99zA4INuNrJx"
      },
      "source": [
        "# Dicionários\n",
        "Os dicionários são listas com índices textuais."
      ]
    },
    {
      "cell_type": "markdown",
      "metadata": {
        "id": "GZhm7ESUUr1N"
      },
      "source": [
        "Os dicionários são estruturas de dados semelhantes às listas, porém, as posições ao invés de serem numéricas são chaves.\n",
        "\n",
        "<h3> Lista </h3>\n",
        "\n",
        "```\n",
        "lista = ['Everton', 29, 'São José']\n",
        "```\n",
        "\n",
        "<h3> Dicionários </h3>\n",
        "\n",
        "```\n",
        "dicio = {'nome': 'Everton', \n",
        "        'idade': 29, \n",
        "       'cidade': 'São José'}\n",
        "```\n",
        "\n",
        "<h3> Exemplo 1 </h3>\n",
        "\n",
        "Declare e imprima as duas listas acima exatamente como estão.\n"
      ]
    },
    {
      "cell_type": "code",
      "metadata": {
        "colab": {
          "base_uri": "https://localhost:8080/"
        },
        "id": "fQaspB-YGbno",
        "outputId": "7b163e80-21d1-4c0a-957f-bf2c4f568977"
      },
      "source": [
        "#Lista:\n",
        "lista = [ 'Everton' , 29 , 'São josé']\n",
        "\n",
        "\n",
        "#Dicionário equivalente.\n",
        "dicio = {\n",
        "          'nome' : 'Everton' , \n",
        "          'idade' : 29,\n",
        "          'cidade' : 'São josé'\n",
        "}\n",
        "\n",
        "print(lista)\n",
        "print(dicio)\n",
        "\n"
      ],
      "execution_count": null,
      "outputs": [
        {
          "output_type": "stream",
          "name": "stdout",
          "text": [
            "['Everton', 29, 'São josé']\n",
            "{'nome': 'Everton', 'idade': 29, 'cidade': 'São josé'}\n"
          ]
        }
      ]
    },
    {
      "cell_type": "markdown",
      "metadata": {
        "id": "6MV4Lfcno0bp"
      },
      "source": [
        "Comparando os dois resultados vemos que os índices numéricos são substituídos por chaves textuais:\n",
        "\n",
        "```\n",
        "              [0]        [1]            [2]\n",
        "lista = [ 'Everton' ,     29      , 'São José']\n",
        "```\n",
        "Então para acessarmos os valores exatos da lista que a gente deseja é necessário saber o que cada posição significa senão faremos análises erradas.\n",
        "\n",
        "Já no dicionário fica assim:\n",
        "```\n",
        "            'nome':     'idade':     'cidade:\n",
        "dicio = { 'Everton' ,     29      , 'São José'}\n",
        "```\n",
        "Muito similar às colunas de uma tabela ou banco de dados.\n"
      ]
    },
    {
      "cell_type": "markdown",
      "metadata": {
        "id": "mSCSNOjdo0Rk"
      },
      "source": [
        "## Estrutura de um Dicionário.\n",
        "\n",
        "A estrutura de um dicionário é baseada em 3 pontos importantes: **keys**, **values** e **items**"
      ]
    },
    {
      "cell_type": "markdown",
      "metadata": {
        "id": "vtc8ZNF9qpRq"
      },
      "source": [
        "Vamos observar de novo a dicionário de exemplo:\n",
        "\n",
        "```\n",
        "         'keys'  : values\n",
        "dicio = {\n",
        "         'nome'  : 'Everton',       -> items\n",
        "         'idade' :  29, \n",
        "         'cidade': 'São José'\n",
        "        }\n",
        "```\n",
        "> As `keys` são as chaves, o que substituem as posições de uma lista. Quando quisermos acessar um valor de um dicionário é dessa chave que temos que lembrar. Assim como num Banco de Dados são as colunas que vamos acessar que precisamos saber os nomes. </br>\n",
        "> Os `values` são os valores, o equivalente aos valores dentro de uma lista. São as informações importantes do objeto que queremos acessar e fazer análises. </br>\n",
        "> Os `items` são o conjunto de `key + value`, uma novidade dos dicionários que irão nos ajudar nos loopings."
      ]
    },
    {
      "cell_type": "markdown",
      "metadata": {
        "id": "MY1xIh9ctB-2"
      },
      "source": [
        "## Manipulando um Dicionário"
      ]
    },
    {
      "cell_type": "markdown",
      "metadata": {
        "id": "4z8-G4LtxUW3"
      },
      "source": [
        "<h2> Declarando um dicionário </h2>\n",
        "\n",
        "Todo dicionário é declarado pelas `{ }`\n",
        "\n",
        "* Declarando um dicionário vazio:\n",
        "```\n",
        "dic1 = {}\n",
        "dic2 = dict()\n",
        "```\n",
        "* Declarando um dicionário já preenchido.\n",
        "```\n",
        "dic3 = {\n",
        "        'key1' : 'value1',\n",
        "        'key2' : 'value2',\n",
        "        'key3' : 'value3'\n",
        "       }\n",
        "```\n",
        "<h3> Pontos de atenção na declaração </h3>\n",
        "\n",
        "* todas as `keys` são strings e, portanto, devem estar entre aspas\n",
        "* os `values` podem ser qualquer tipo de dado e/ou estrutura: `str`, `int`, `float`, `bool`, `list`, `tuple`, `dict`, ...\n",
        "* a declaração direta de valor para uma chave sempre é feita com `:`\n",
        "* embora não seja necessário é comum declarar um dicionário dando \"*enter*\" entre cada chave para ficar visualmente mais fácil de ler no programa.\n",
        "\n",
        "<h3> Exemplo 2 </h3>\n",
        "Imprima os três dicionários acima e veja se você declarou corretamente."
      ]
    },
    {
      "cell_type": "code",
      "metadata": {
        "colab": {
          "base_uri": "https://localhost:8080/"
        },
        "id": "e7XMflNuzMEr",
        "outputId": "9ea6fcf5-2f41-4ab0-b8c1-3887393a7fd2"
      },
      "source": [
        "# Declarando dicionários\n",
        "dic1 = {}\n",
        "dic2 = dict()\n",
        "dic3 = {\n",
        "    'Key1' : 'value1',\n",
        "    'key2' : 38.5,\n",
        "    'key3' : True,\n",
        "    'key4' : [0, 1]\n",
        "}\n",
        "# Imprimindo\n",
        "print(dic1)\n",
        "print(dic2)\n",
        "print(dic3)"
      ],
      "execution_count": null,
      "outputs": [
        {
          "output_type": "stream",
          "name": "stdout",
          "text": [
            "{}\n",
            "{}\n",
            "{'Key1': 'value1', 'key2': 38.5, 'key3': True, 'key4': [0, 1]}\n"
          ]
        }
      ]
    },
    {
      "cell_type": "markdown",
      "metadata": {
        "id": "vDe1gxYrzgrs"
      },
      "source": [
        "Assim como nas listas a declaração de dicionários vazios são ótimos para quando os valores do dicionário precisam ser declarados pelo usuário ou lidos de alguma fonte externa.\n",
        "\n",
        "<h2> Acessando os valores </h2>\n",
        "\n",
        "```\n",
        "dicio['key'] == value\n",
        "```\n",
        "Acessar os valores de um dicionário é muito similar a acessar os valores de uma lista. Só que no lugar da `posição` usamos as `chaves`\n",
        "\n",
        "<h3> Exemplo 3 </h3>\n",
        "Dado o dicionário abaixo acesse cada um de seus valores.\n",
        "\n",
        "```\n",
        "pessoa = {\n",
        "         'nome'  : 'Everton',\n",
        "         'idade' :  29, \n",
        "         'cidade': 'São José'\n",
        "}\n",
        "```"
      ]
    },
    {
      "cell_type": "code",
      "metadata": {
        "colab": {
          "base_uri": "https://localhost:8080/"
        },
        "id": "3UWk9Qbt0ZLT",
        "outputId": "5a9a384d-49e3-4b89-c000-b9d291c1a339"
      },
      "source": [
        "# Declarando dicionário:\n",
        "pessoa = {\n",
        "    'nome' : 'Everton',\n",
        "    'idade': 29,\n",
        "    'cidade': 'São josé',\n",
        "}\n",
        "\n",
        "# Acessando os valores:\n",
        "print(pessoa['nome'])\n",
        "print(pessoa['idade'])\n",
        "print(pessoa['cidade'])\n"
      ],
      "execution_count": null,
      "outputs": [
        {
          "output_type": "stream",
          "name": "stdout",
          "text": [
            "Everton\n",
            "29\n",
            "São josé\n"
          ]
        }
      ]
    },
    {
      "cell_type": "code",
      "source": [],
      "metadata": {
        "id": "kt0Cb4RXM44S"
      },
      "execution_count": null,
      "outputs": []
    },
    {
      "cell_type": "markdown",
      "metadata": {
        "id": "9VlHNRy00nV3"
      },
      "source": [
        "<h2> Modificando os valores </h2>\n",
        "\n",
        "```\n",
        "dicio['key'] = value\n",
        "```\n",
        "Similar à listas, se atribuirmos valor a uma posição/chave já modificamos o valor da chave do dicionário.\n",
        "\n",
        "<h3> Exemplo 4 </h3>\n",
        "Usando o mesmo dicionário: `pessoa`, modifique a chave `'cidade'` para `'São Paulo'` e imprima o resultado."
      ]
    },
    {
      "cell_type": "code",
      "metadata": {
        "colab": {
          "base_uri": "https://localhost:8080/"
        },
        "id": "Wn1f-PUd1Qx5",
        "outputId": "b8d6b3e1-72fb-49d0-8be4-7513017e60b8"
      },
      "source": [
        "# Modificando o valor:\n",
        "pessoa['cidade'] = 'São Paulo'\n",
        "\n",
        "# Imprimindo valores:\n",
        "print(pessoa)\n"
      ],
      "execution_count": null,
      "outputs": [
        {
          "output_type": "stream",
          "name": "stdout",
          "text": [
            "{'nome': 'Everton', 'idade': 29, 'cidade': 'São Paulo'}\n"
          ]
        }
      ]
    },
    {
      "cell_type": "markdown",
      "metadata": {
        "id": "7IjS-9ls1p90"
      },
      "source": [
        "<h2> Criando nova chave </h2>\n",
        "\n",
        "```\n",
        "dicio['key'] = value\n",
        "```\n",
        "Para criar uma nova chave é exatamente igual a modificar uma chave. A partir do momento que atribuimos um valor o Python verifica se aquela chave já existe no dicionário. Caso não exista ele cria uma nova automaticamente.\n",
        "\n",
        "<h3> Exemplo 5 </h3>\n",
        "\n",
        "Usando o mesmo dicionário: `pessoa`, crie uma chave `'peso'` com valor de `65` e imprima o resultado."
      ]
    },
    {
      "cell_type": "code",
      "metadata": {
        "colab": {
          "base_uri": "https://localhost:8080/"
        },
        "id": "BckVwl-a2KhQ",
        "outputId": "955d0339-bcc1-4304-89e8-203c76e4cc09"
      },
      "source": [
        "# Criando uma chave:\n",
        "pessoa['peso'] = 65\n",
        "\n",
        "# Imprimindo valores:\n",
        "print(pessoa)"
      ],
      "execution_count": null,
      "outputs": [
        {
          "output_type": "stream",
          "name": "stdout",
          "text": [
            "{'nome': 'Everton', 'idade': 29, 'cidade': 'São Paulo', 'peso': 65}\n"
          ]
        }
      ]
    },
    {
      "cell_type": "markdown",
      "metadata": {
        "id": "Fo46GxPM2SzU"
      },
      "source": [
        "<h2> CUIDADO na declaração de novas chaves </h2>\n",
        "\n",
        "O Python é *Case Sensitive*, ou seja, se você tentar modificar o valor de uma chave mas não colocar o nome da chave exatamente igual você acabará criando uma nova chave.\n",
        "\n",
        "<h4> Sempre teste seus programas conforme for codando!!! </h4>\n",
        "\n",
        "<h3> Exemplo 6 </h3>\n",
        "\n",
        "Usando o mesmo dicionário: `pessoa`, crie uma chave `'Cidade'` com valor de `'São José'` e imprima o dicionário completo.\n"
      ]
    },
    {
      "cell_type": "code",
      "metadata": {
        "colab": {
          "base_uri": "https://localhost:8080/"
        },
        "id": "t5HIHPz-275n",
        "outputId": "68244d86-4f17-4a9a-ae7b-0dea6c6d10b3"
      },
      "source": [
        "# Criando uma chave:\n",
        "pessoa['Cidade'] = 'São José'\n",
        "\n",
        "# Imprimindo valores:\n",
        "print(pessoa)"
      ],
      "execution_count": null,
      "outputs": [
        {
          "output_type": "stream",
          "name": "stdout",
          "text": [
            "{'nome': 'Everton', 'idade': 29, 'cidade': 'São Paulo', 'peso': 65, 'Cidade': 'São José'}\n"
          ]
        }
      ]
    },
    {
      "cell_type": "markdown",
      "metadata": {
        "id": "uN36AhyW3IkN"
      },
      "source": [
        "Repare que agora temos 2 chaves \"similares\". Siga sempre o mesmo padrão de criação de nome de variáveis, listas, chaves, dicionários e etc para reduzir esse risco.\n",
        "\n",
        "Sempre analise as atuais chaves de um objeto antes de editá-lo de qualquer maneira.\n",
        "\n",
        "<h2> Deletando uma chave com seu valor </h2>\n",
        "\n",
        "```\n",
        "del dicio['chave']\n",
        "```\n",
        "Muito similar ao que fazíamos em listas, podemos usar o comando `del`\n",
        "\n",
        "<h3> Exemplo 7 </h3>\n",
        "\n",
        "Usando o mesmo dicionário: `pessoa` , delete a chave `'Cidade'` e imprima o dicionário completo."
      ]
    },
    {
      "cell_type": "code",
      "metadata": {
        "colab": {
          "base_uri": "https://localhost:8080/"
        },
        "id": "K99JuwZS39RZ",
        "outputId": "bd7768de-f345-41f0-b40f-824ffae7331e"
      },
      "source": [
        "# Deletando uma chave:\n",
        "del pessoa['Cidade']\n",
        "\n",
        "# Imprimindo valores:\n",
        "print(pessoa)"
      ],
      "execution_count": null,
      "outputs": [
        {
          "output_type": "stream",
          "name": "stdout",
          "text": [
            "{'nome': 'Everton', 'idade': 29, 'cidade': 'São Paulo', 'peso': 65}\n"
          ]
        }
      ]
    },
    {
      "cell_type": "markdown",
      "metadata": {
        "id": "W8dv8FqsAF8r"
      },
      "source": [
        "<h2> Acessando o dicionário </h2>\n",
        "\n",
        "```\n",
        "dicio          #dicionário completo\n",
        "dicio.values()  #somente os valores do dicionário\n",
        "dicio.keys()   #somente as chaves do dicionário\n",
        "dicio.items()  #chaves + valores do dicionário (usado em loopings)\n",
        "```\n",
        "Como visto anteriormente, os dicionários possuem 3 itens principais, e usaremos eles para acessar parâmetros específicos dos dicionários.\n",
        "\n",
        "<h3> Exemplo 8 </h3>\n",
        "\n",
        "Usando o mesmo dicionário: `pessoa` ,imprima cada um dos itens acima. "
      ]
    },
    {
      "cell_type": "code",
      "metadata": {
        "colab": {
          "base_uri": "https://localhost:8080/"
        },
        "id": "YBvEEABIA4wl",
        "outputId": "9e7b80f1-6d64-4a64-a41e-c2b79182a363"
      },
      "source": [
        "#Imprimindo valores\n",
        "print(dicio)\n",
        "print(dicio.values())\n",
        "print(dicio.keys())\n",
        "print(dicio.items())"
      ],
      "execution_count": null,
      "outputs": [
        {
          "output_type": "stream",
          "name": "stdout",
          "text": [
            "{'nome': 'Everton', 'idade': 29, 'cidade': 'São josé'}\n",
            "dict_values(['Everton', 29, 'São josé'])\n",
            "dict_keys(['nome', 'idade', 'cidade'])\n",
            "dict_items([('nome', 'Everton'), ('idade', 29), ('cidade', 'São josé')])\n"
          ]
        }
      ]
    },
    {
      "cell_type": "markdown",
      "metadata": {
        "id": "yl5duH1QBl_0"
      },
      "source": [
        "Repare que os 3 itens acabaram ficando parecidos com uma lista. Se usarmos o comando `list()` podemos até converter cada um desses itens em listas para trabalharmos de outras maneiras."
      ]
    },
    {
      "cell_type": "markdown",
      "metadata": {
        "id": "2z9VVPj6B3XI"
      },
      "source": [
        "## Dicionários dentro de for\n",
        "\n",
        "É comum utilizarmos os dicionários dentro de loopings para fazermos as análises. E para isso usaremos os 3 itens vistos acima: `values`,`keys` e `items`"
      ]
    },
    {
      "cell_type": "markdown",
      "metadata": {
        "id": "kSBNuGcuCkBs"
      },
      "source": [
        "<h2> Acessando os valores </h2>\n",
        "\n",
        "```\n",
        "for v in dicio.values():\n",
        "  print(v)\n",
        "```\n",
        "Acima entende-se: *Para cada valor dentro dos valores do dicionário, imprima valor*\n",
        "\n",
        "<h3> Exemplo 9 </h3>\n",
        "\n",
        "Considerando o dicionário `pessoa` imprima cada um de seus valores"
      ]
    },
    {
      "cell_type": "code",
      "metadata": {
        "colab": {
          "base_uri": "https://localhost:8080/"
        },
        "id": "hXqfa7flDCeZ",
        "outputId": "f175c8a6-9754-4d9f-8d46-acf879ac3d35"
      },
      "source": [
        "#Imprimindo valores\n",
        "for v in dicio.values():\n",
        "  print(f'O valor é: {v}')\n"
      ],
      "execution_count": null,
      "outputs": [
        {
          "output_type": "stream",
          "name": "stdout",
          "text": [
            "O valor é: Everton\n",
            "O valor é: 29\n",
            "O valor é: São josé\n"
          ]
        }
      ]
    },
    {
      "cell_type": "markdown",
      "metadata": {
        "id": "cl5af-1KDSxj"
      },
      "source": [
        "<h2> Acessando as chaves </h2>\n",
        "\n",
        "```\n",
        "for k in dicio.keys():\n",
        "  print(k)\n",
        "```\n",
        "Acima entende-se: *Para cada chave dentro das chaves do dicionário, imprima chave*\n",
        "\n",
        "<h3> Exemplo 10 </h3>\n",
        "\n",
        "Considerando o dicionário `pessoa` imprima cada um de suas chaves"
      ]
    },
    {
      "cell_type": "code",
      "metadata": {
        "colab": {
          "base_uri": "https://localhost:8080/"
        },
        "id": "4OHgzd6FDkG3",
        "outputId": "2468644d-cfca-4278-b538-6e1a685ac034"
      },
      "source": [
        "#Imprimindo chaves\n",
        "for k in dicio.keys():\n",
        "  print(f'A chave é: {k}')\n",
        "print('Fim das chaves')"
      ],
      "execution_count": null,
      "outputs": [
        {
          "output_type": "stream",
          "name": "stdout",
          "text": [
            "A chave é: nome\n",
            "A chave é: idade\n",
            "A chave é: cidade\n",
            "Fim das chaves\n"
          ]
        }
      ]
    },
    {
      "cell_type": "markdown",
      "metadata": {
        "id": "BKYDSdbhDyzD"
      },
      "source": [
        "<h2> Acessando os items </h2>\n",
        "\n",
        "```\n",
        "for k, v in dicio.items():\n",
        "  print(k, v)\n",
        "```\n",
        "Acima entende-se: *Para cada chave e valor dentro dos itens do dicionário, imprima chave e valor*\n",
        "\n",
        "<h3> Exemplo 11 </h3>\n",
        "\n",
        "Considerando o dicionário `pessoa` imprima cada uma de suas chaves e respectivos valores."
      ]
    },
    {
      "cell_type": "code",
      "metadata": {
        "colab": {
          "base_uri": "https://localhost:8080/"
        },
        "id": "lmg-hC-fEHba",
        "outputId": "97252464-417d-4f40-ab42-6de9e499ce89"
      },
      "source": [
        "#Imprimindo chaves e valores\n",
        "for k, v in dicio.items():\n",
        "  print(f'O(a) {k} é: {v}')\n"
      ],
      "execution_count": null,
      "outputs": [
        {
          "output_type": "stream",
          "name": "stdout",
          "text": [
            "O(a) nome é: Everton\n",
            "O(a) idade é: 29\n",
            "O(a) cidade é: São josé\n"
          ]
        }
      ]
    },
    {
      "cell_type": "markdown",
      "metadata": {
        "id": "0lNHLBSrEfNv"
      },
      "source": [
        "<h2> Exercício 1 </h2>\n",
        "\n",
        "Dado dicionário abaixo:\n",
        "```\n",
        "cardapio = {\n",
        "            'lanche' : 10.9,\n",
        "            'batata' : 5.5,\n",
        "            'refri' : 3.9\n",
        "}\n",
        "```\n",
        "1. Mostre o cardápio para o usuário\n",
        "2. Pergunte quantos itens ele quer de cada\n",
        "3. Calcule e mostre pra ele o valor total da conta"
      ]
    },
    {
      "cell_type": "code",
      "metadata": {
        "colab": {
          "base_uri": "https://localhost:8080/"
        },
        "id": "srLT4i4JFGgQ",
        "outputId": "4cb4f413-4f28-423d-a861-c7500835ccd2"
      },
      "source": [
        "# Declarando dicionário\n",
        "cardapio = {\n",
        "            'lanche' : 10.9,\n",
        "            'batata' : 5.5,\n",
        "            'refri' : 3.9\n",
        "}\n",
        "\n",
        "\n",
        "# 1. Mostrando cardápio:\n",
        "print('-'*40)\n",
        "print('-'*15, 'CARDÁPIO' , '-'*15)\n",
        "print('-'*40)\n",
        "\n",
        "for k, v in cardapio.items():\n",
        "  print(f'{k:.<32} R${v:5.2f}')\n",
        "print('-'*40)\n",
        "\n",
        "# 2. Perguntando quantos itens ele quer de cada.\n",
        "qtd = {}\n",
        "for k in cardapio.keys():\n",
        "  qtd[k] = int(input(f'Quantos {k} você quer: '))\n",
        "print('-'*40)\n",
        "# 3. Calculando o valor total:\n",
        "soma = 0\n",
        "\n",
        "for v1, v2 in zip(cardapio.values(), qtd.values()):\n",
        "  soma += v1 * v2\n",
        "\n",
        "# Imprimindo recibo:\n",
        "print('-'*40)\n",
        "print('-'*11, 'RECIBO', '-'*11)\n",
        "for k, v in qtd.items():\n",
        "  print(f'{v} - {k:.<20} = R${v * cardapio[k]:5.2f}')\n",
        "print('-'*40)\n",
        "print(f'     O valor total é de: R${soma:.2f}')"
      ],
      "execution_count": null,
      "outputs": [
        {
          "output_type": "stream",
          "name": "stdout",
          "text": [
            "----------------------------------------\n",
            "--------------- CARDÁPIO ---------------\n",
            "----------------------------------------\n",
            "lanche.......................... R$10.90\n",
            "batata.......................... R$ 5.50\n",
            "refri........................... R$ 3.90\n",
            "----------------------------------------\n",
            "Quantos lanche você quer: 1\n",
            "Quantos batata você quer: 2\n",
            "Quantos refri você quer: 3\n",
            "----------------------------------------\n",
            "----------------------------------------\n",
            "----------- RECIBO -----------\n",
            "1 - lanche.............. = R$10.90\n",
            "2 - batata.............. = R$11.00\n",
            "3 - refri............... = R$11.70\n",
            "----------------------------------------\n",
            "     O valor total é de: R$33.60\n"
          ]
        }
      ]
    },
    {
      "cell_type": "markdown",
      "metadata": {
        "id": "0xidZSTxJB0G"
      },
      "source": [
        "## Dicionários dentro de listas\n",
        "\n",
        "Se os dicionários são como se fossem colunas de uma tabela, as listas são como as suas linhas, formando uma tabela completa."
      ]
    },
    {
      "cell_type": "markdown",
      "metadata": {
        "id": "Q8f8wJaWJlRX"
      },
      "source": [
        "<h2> Estrutura </h2>\n",
        "\n",
        "Imaginando uma tabela, temos:\n",
        "\n",
        "```\n",
        "  linhas    'key1':  'key2':  'key3':\n",
        "    [0]     valor11  valor12  valor13\n",
        "    [1]     valor21  valor22  valor23\n",
        "    [2]     valor31  valor32  valor33        \n",
        "\n",
        "```\n",
        "\n",
        "Imaginando que cada linha é uma lista, temos:\n",
        "\n",
        "```\n",
        "lista1 = [value11 , value12 , value13],\n",
        "lista2 = [value21 , value22 , value23],\n",
        "lista3 = [value31 , value32 , value33]\n",
        "```\n",
        "\n",
        "Colocando cada valor e sua respectiva chave dentro dos dicionários, temos:\n",
        "\n",
        "```\n",
        "lista[0] = {'key1': value11, 'key2': value21, 'key3': value31},\n",
        "lista[1] = {'key1': value21, 'key2': value22, 'key3': value32},\n",
        "lista[2] = {'key1': value31, 'key2': value23, 'key3': value33}\n",
        "```\n",
        "\n",
        "Agrupando tudo isso, temos:\n",
        "\n",
        "```\n",
        "lista = [\n",
        "        {'key1': value11, 'key2': value21, 'key3': value31},\n",
        "        {'key1': value21, 'key2': value22, 'key3': value32},\n",
        "        {'key1': value31, 'key2': value23, 'key3': value33}\n",
        "]\n",
        "```\n",
        "\n",
        "<h2> Exemplo 12 </h2>\n",
        "Dada a lista de dicionários abaixo, faça:\n",
        "\n",
        "```\n",
        "pessoas = [\n",
        "          {'nome':'Everton' , 'idade':29 , 'cidade':'São José'},\n",
        "          {'nome':'Thiago' , 'idade':34 , 'cidade':'São Paulo'},\n",
        "          {'nome':'André' , 'idade':22 , 'cidade':'Lorena'}\n",
        "]\n",
        "```\n",
        "\n",
        "1. Imprima cada posição da lista (sem usar for)\n",
        "2. Imprima: o nome da pessoa 1, a idade da pessoa 2, e a cidade da pessoa 3"
      ]
    },
    {
      "cell_type": "code",
      "metadata": {
        "colab": {
          "base_uri": "https://localhost:8080/"
        },
        "id": "4RlGflrvDR72",
        "outputId": "0132f84e-18e9-42cf-8373-178f91146a08"
      },
      "source": [
        "# Copiando a lista de dicionários:\n",
        "pessoas = [\n",
        "          {'nome':'Everton' , 'idade':29 , 'cidade':'São José'},\n",
        "          {'nome':'Thiago' , 'idade':34 , 'cidade':'São Paulo'},\n",
        "          {'nome':'André' , 'idade':22 , 'cidade':'Lorena'}\n",
        "]\n",
        "# Imprimindo cada lista:\n",
        "print(pessoas[2])\n",
        "# Imprimindo o nome da pessoa 1:\n",
        "print(pessoas[0]['nome'])\n",
        "# Imprimindo o idade da pessoa 2:\n",
        "print(pessoas[1]['idade'])\n",
        "\n",
        "# Imprimindo o cidade da pessoa 3:\n",
        "print(pessoas[2]['cidade'])"
      ],
      "execution_count": null,
      "outputs": [
        {
          "output_type": "stream",
          "name": "stdout",
          "text": [
            "{'nome': 'André', 'idade': 22, 'cidade': 'Lorena'}\n",
            "Everton\n",
            "34\n",
            "Lorena\n"
          ]
        }
      ]
    },
    {
      "cell_type": "markdown",
      "metadata": {
        "id": "N-oL9_92OEKo"
      },
      "source": [
        "### For dentro de For\n",
        "\n",
        "Quando temos listas ou dicionários aninhados, é comum precisarmos rodar for dentro de for para pegar os valores que precisamos, sendo que vai ser: 1 for para cada nível de aninhamento"
      ]
    },
    {
      "cell_type": "markdown",
      "metadata": {
        "id": "b-gn1tryOVY_"
      },
      "source": [
        "<h2> Estrutura </h2>\n",
        "\n",
        "```\n",
        "for l in listas:\n",
        "  print(l)\n",
        "  for k, v in l.items(): \n",
        "    print(k, v)\n",
        "```\n",
        "\n",
        "Lê-se: <br>\n",
        "\"*Para cada lista (dentro de listas) imprima lista*\" <br>       \"*Para cada item da lista selecionada imprima chave e valor*\"\n",
        "\n",
        "<h2> Exemplo 13 </h2>\n",
        "\n",
        "Dada a lista: `pessoas` execute a estrutura acima."
      ]
    },
    {
      "cell_type": "code",
      "metadata": {
        "colab": {
          "base_uri": "https://localhost:8080/"
        },
        "id": "zQ9eR-sUPrNh",
        "outputId": "5d64043b-c06c-4371-defc-5480fcd6a9b5"
      },
      "source": [
        "# montando for:\n",
        "for p in pessoas:\n",
        "  print(f'Dados da pessoa: {p}')\n",
        "  for k, v in p.items():\n",
        "    print(f'A chave: {k} é: {v}')\n",
        "  print('Final do segundo for')"
      ],
      "execution_count": null,
      "outputs": [
        {
          "output_type": "stream",
          "name": "stdout",
          "text": [
            "Dados da pessoa: {'nome': 'Everton', 'idade': 29, 'cidade': 'São José'}\n",
            "A chave: nome é: Everton\n",
            "A chave: idade é: 29\n",
            "A chave: cidade é: São José\n",
            "Final do segundo for\n",
            "Dados da pessoa: {'nome': 'Thiago', 'idade': 34, 'cidade': 'São Paulo'}\n",
            "A chave: nome é: Thiago\n",
            "A chave: idade é: 34\n",
            "A chave: cidade é: São Paulo\n",
            "Final do segundo for\n",
            "Dados da pessoa: {'nome': 'André', 'idade': 22, 'cidade': 'Lorena'}\n",
            "A chave: nome é: André\n",
            "A chave: idade é: 22\n",
            "A chave: cidade é: Lorena\n",
            "Final do segundo for\n"
          ]
        }
      ]
    },
    {
      "cell_type": "markdown",
      "metadata": {
        "id": "WzBljvCzQvTi"
      },
      "source": [
        "<h2> Exercício 2 </h2>\n",
        "\n",
        "Dada a lista `pessoas`\n",
        "\n",
        "1. Imprima somente os nomes da seguinte forma:\n",
        "\n",
        "O nome da pessoa [1] é : 'valor'\n",
        "\n",
        "2. Imprima as cidades das pessoas que possuem menos de 30 anos:\n",
        "\n",
        "A pessoa [N] tem [idade] anos e o nome dela é [nome] e mora em [cidade]"
      ]
    },
    {
      "cell_type": "code",
      "metadata": {
        "colab": {
          "base_uri": "https://localhost:8080/"
        },
        "id": "r7MS_kOAReSv",
        "outputId": "c0ea286e-a1d7-471f-9dd4-7d4e0963a826"
      },
      "source": [
        "# Imprimir somente os nomes:\n",
        "for i, p in enumerate(pessoas):\n",
        "  print(f\"O nome da pessoa {i+1} é {p['nome']}\")\n",
        "  print('-'*30)\n",
        "# Imprimir os dados de pessoas com menos de 30 anos:\n",
        "for i, p in enumerate(pessoas):\n",
        "  for k, v in p.items():\n",
        "    if k== 'idade' and v < 30:\n",
        "      print(f\"A pessoa {i+1} tem {p['idade']} anos e o nome dela é {p['nome']} e mora em {p['cidade']}\")\n",
        "      "
      ],
      "execution_count": null,
      "outputs": [
        {
          "output_type": "stream",
          "name": "stdout",
          "text": [
            "O nome da pessoa 1 é Everton\n",
            "------------------------------\n",
            "O nome da pessoa 2 é Thiago\n",
            "------------------------------\n",
            "O nome da pessoa 3 é André\n",
            "------------------------------\n",
            "A pessoa 1 tem 29 anos e o nome dela é Everton e mora em São José\n",
            "A pessoa 3 tem 22 anos e o nome dela é André e mora em Lorena\n"
          ]
        }
      ]
    },
    {
      "cell_type": "markdown",
      "metadata": {
        "id": "a7QwRjiwff4Y"
      },
      "source": [
        "#### Copiando dicionários para listas\n",
        "\n",
        "Quando queremos inserir um dicionário dentro de uma lista, não podemos usar o método do fatiamento para fazer a cópia da lista temporária, então faremos:\n",
        "\n",
        "```\n",
        "lista.append(dicionario.copy())\n",
        "```\n",
        "\n",
        "<h2> Estrutura </h2>\n",
        "\n",
        "```\n",
        "dicio = {}\n",
        "lista = []\n",
        "for d in range(ini, fim):\n",
        "  dicio.['Key1'] = input('Valor1 = ')\n",
        "  dicio.['Key2'] = input('Valor2 = ')\n",
        "  lista.append(dicio.copy())\n",
        "```\n",
        "Assim como nas listas, colocamos os valores inputados pelo usuário num dicionário temporário e a seguir o copiamos para lista.\n",
        "\n",
        "* Não podemos usar: `lista.append(dicio)` pois assim iríamos clonar a lista\n",
        "\n",
        "* Não podemos usar: `lista.append(dicio[:])` pois os dicionários não aceitam append.\n",
        "\n",
        "<h2> Exemplo 14 </h2>\n",
        "\n",
        "Faça um sistema que pergunte e salve numas lista de dicionários o nome e idade de pessoas. Pergunte pro usuário quando ele quer parar (s/n)\n"
      ]
    },
    {
      "cell_type": "code",
      "metadata": {
        "colab": {
          "base_uri": "https://localhost:8080/"
        },
        "id": "GDAsxOKMgj33",
        "outputId": "2bda7d4d-8ab7-43f3-a873-9f70a02140c1"
      },
      "source": [
        "# Declarando lista e dicio vazios\n",
        "\n",
        "while True:\n",
        "  temp['nome'] = str(input('Fale um nome: '))\n",
        "  temp['idade'] = int(input('Fale uma idade: '))\n",
        "  controle = str(input('Você quer continuar ? s/n: '))\n",
        "  \n",
        "  pessoas.append(temp.copy())\n",
        "  print(pessoas)\n",
        "  if controle == 'n':\n",
        "    break\n",
        "\n",
        "print(pessoas)"
      ],
      "execution_count": null,
      "outputs": [
        {
          "output_type": "stream",
          "name": "stdout",
          "text": [
            "Fale um nome: emerson\n",
            "Fale uma idade: 21\n",
            "Você quer continuar ? s/n: s\n",
            "[{'nome': 'emerson', 'idade': 21}, {'nome': 'josea', 'idade': 45}, {'nome': 'emerson', 'idade': 21}, {'nome': 'emerson', 'idade': 21}]\n",
            "Fale um nome: josefina\n",
            "Fale uma idade: 49\n",
            "Você quer continuar ? s/n: n\n",
            "[{'nome': 'emerson', 'idade': 21}, {'nome': 'josea', 'idade': 45}, {'nome': 'emerson', 'idade': 21}, {'nome': 'emerson', 'idade': 21}, {'nome': 'josefina', 'idade': 49}]\n",
            "[{'nome': 'emerson', 'idade': 21}, {'nome': 'josea', 'idade': 45}, {'nome': 'emerson', 'idade': 21}, {'nome': 'emerson', 'idade': 21}, {'nome': 'josefina', 'idade': 49}]\n"
          ]
        }
      ]
    },
    {
      "cell_type": "markdown",
      "metadata": {
        "id": "zw88DxguZJRf"
      },
      "source": [
        "# Exercícios"
      ]
    },
    {
      "cell_type": "markdown",
      "metadata": {
        "id": "s7hg_vdWZLu-"
      },
      "source": [
        "<h2> Exercício 1 </h2>\n",
        "\n",
        "1. Crie uma lista de dicionários contendo as notas de todos os alunos de uma sala (5 alunos). No dicionário é para ter os campos:\n",
        "* nome: \n",
        "* nota1:\n",
        "* nota2:\n",
        "* media:\n",
        "* status:\n",
        "\n",
        "2. Peça para o usuário digitar as notas de cada aluno\n",
        "3. Tire a média das notas e adicione no dicionário\n",
        "4. Se média for maior ou igual a 7, coloque \"aprovado\" no status, caso contrário, coloque \"reprovado\"\n",
        "5. Calcule a média das médias e imprima para o professor."
      ]
    },
    {
      "cell_type": "code",
      "metadata": {
        "id": "uZpksmjoiis7"
      },
      "source": [],
      "execution_count": null,
      "outputs": []
    },
    {
      "cell_type": "markdown",
      "metadata": {
        "id": "a_px7HWnijLf"
      },
      "source": [
        "<h2> Exercício 2 </h2>\n",
        "\n",
        "1. Adapte o sistema anterior para que as notas 1 e 2 estejam dentro de uma lista. Então o dicionário irá conter:\n",
        "* nome: \n",
        "* nota: [nota1 nota2]\n",
        "* media:\n",
        "* status:\n",
        "2. ao 5. faça o mesmo do anterior."
      ]
    },
    {
      "cell_type": "code",
      "metadata": {
        "id": "FB4yuHQvjAZw"
      },
      "source": [],
      "execution_count": null,
      "outputs": []
    },
    {
      "cell_type": "markdown",
      "metadata": {
        "id": "hgElesKdjFJg"
      },
      "source": [
        "<h2> Exercício 3 </h2>\n",
        "\n",
        "Dada os dois dicionários abaixo, calcule a média de preços:\n",
        "\n",
        "```\n",
        "produtos = [ {\n",
        "          'produto': 'maça',\n",
        "          'preco': 2.2\n",
        "          },\n",
        "         {\n",
        "          'produto': 'banana',\n",
        "          'preco': 1.2\n",
        "          } ]\n",
        "everton = {\n",
        "        'cliente': 'Everton'\n",
        "        'compra': [ {\n",
        "                      'produto': 'maça',\n",
        "                      'qtd' = 3\n",
        "                     },\n",
        "                    {\n",
        "                      'produto': 'banana',\n",
        "                      'qtd' = 10\n",
        "                     } ]\n",
        "}\n",
        "```\n",
        "1. Calcule o valor total da compra do Everton\n",
        "2. Imprima a qtd que ele comprou e o que ele comprou\n",
        "3. Imprima o valor total das compras"
      ]
    }
  ]
}